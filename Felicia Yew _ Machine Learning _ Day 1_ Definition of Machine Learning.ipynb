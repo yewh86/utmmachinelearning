{
 "cells": [
  {
   "cell_type": "markdown",
   "metadata": {},
   "source": [
    "List a few definition of machine learning (with references if possible), and example of application. Write in paragraphs at Jupyter Notebook."
   ]
  },
  {
   "cell_type": "markdown",
   "metadata": {},
   "source": [
    "Definitions of Machine Learning :\n",
    "\n",
    "1.\tMachine learning at its most basic is the practice of using algorithms to parse data, learn from it, and then make a determination or prediction about something in the world.  \n",
    "\n",
    "2.\tMachine learning is based on algorithms that can learn from data without relying on rules-based programming. \n",
    "\n",
    "3.\tMachine learning is the science of getting computers to act without being explicitly programmed, but instead letting them learn a few tricks on their own. \n"
   ]
  },
  {
   "cell_type": "markdown",
   "metadata": {},
   "source": [
    "Example of applications:\n",
    "\n",
    "1.\tVirtual personal assistants eg. Siri, Alexa, Google, Smart Speakers: Amazon Echo and Google Home, Smartphones: Samsung Bixby and Samsung S8, Mobile Apps: Google Allo.\n",
    "\n",
    "2.\tPredictions while commuting eg. GPS traffic predictions, Price ride for online transportation networks\n",
    "\n",
    "3.\tSocial media services eg. Recognizing people you may know, face recognition, similar pins.\n",
    "\n",
    "4.\tEmail spam and malware filtering eg. Multi Layer Perceptron, C 4.5 Decision Tree Induction\n",
    "\n",
    "5.\tProduct recommendation for online shopping\n",
    "\n",
    "6.\tOnline fraud detection eg. Paypal is using ML for protection against money laundering. \n"
   ]
  },
  {
   "cell_type": "markdown",
   "metadata": {},
   "source": [
    "References\n",
    "\n",
    "1.\thttps://blogs.nvidia.com/blog/2016/07/29/whats-difference-artificial-intelligence-machine-learning-deep-learning-ai/\n",
    "\n",
    "2.\thttps://www.mckinsey.com/industries/high-tech/our-insights/an-executives-guide-to-machine-learning\n",
    "\n",
    "3.\thttps://emerj.com/ai-podcast-interviews/welcome-to-ai-kindergarten-a-path-to-machine-genomes/\n",
    "\n",
    "4.\thttps://emerj.com/ai-glossary-terms/what-is-machine-learning/\n",
    "\n",
    "5.\thttps://medium.com/app-affairs/9-applications-of-machine-learning-from-day-to-day-life-112a47a429d0\n"
   ]
  }
 ],
 "metadata": {
  "kernelspec": {
   "display_name": "Python 3",
   "language": "python",
   "name": "python3"
  },
  "language_info": {
   "codemirror_mode": {
    "name": "ipython",
    "version": 3
   },
   "file_extension": ".py",
   "mimetype": "text/x-python",
   "name": "python",
   "nbconvert_exporter": "python",
   "pygments_lexer": "ipython3",
   "version": "3.6.6"
  }
 },
 "nbformat": 4,
 "nbformat_minor": 2
}
